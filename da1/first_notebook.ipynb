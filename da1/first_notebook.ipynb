{
 "cells": [
  {
   "cell_type": "markdown",
   "id": "333e9d02",
   "metadata": {},
   "source": [
    "# Notebook Basics\n",
    "\n",
    "## Level 2 heading\n",
    "\n",
    "* bullet 1\n",
    "* bullet 2"
   ]
  },
  {
   "cell_type": "code",
   "execution_count": 9,
   "id": "dea8e1e8",
   "metadata": {},
   "outputs": [
    {
     "data": {
      "text/plain": [
       "'hahahahahahahahahahahahahahahahahahahahahahahahahahahahahahahahahahahahahahahahahahahahahahahahahahahahahahahahahahahahahahahahahahahahahahahahahahahahahahahahahahahahahahahahahahahahahahahahahahahahahahahahahahahahahahahahahahahahahahahahahahahahahahahahahahahahahahahahahahahahahahahahahahahahahahahahahahahahahahahahahahahahahahahahahahahahahahahahahahahahahahahahahahahahahahahahahahahahahahaha'"
      ]
     },
     "execution_count": 9,
     "metadata": {},
     "output_type": "execute_result"
    }
   ],
   "source": [
    "\"ha\" * 199"
   ]
  },
  {
   "cell_type": "code",
   "execution_count": 8,
   "id": "0afc65cf",
   "metadata": {},
   "outputs": [
    {
     "data": {
      "text/plain": [
       "8"
      ]
     },
     "execution_count": 8,
     "metadata": {},
     "output_type": "execute_result"
    }
   ],
   "source": [
    "2 + 2 * 3\n"
   ]
  },
  {
   "cell_type": "code",
   "execution_count": 5,
   "id": "33ba6018",
   "metadata": {
    "scrolled": true
   },
   "outputs": [
    {
     "data": {
      "text/plain": [
       "8"
      ]
     },
     "execution_count": 5,
     "metadata": {},
     "output_type": "execute_result"
    }
   ],
   "source": [
    "2 + 2 * 3\n"
   ]
  },
  {
   "cell_type": "code",
   "execution_count": 7,
   "id": "eca6e72f",
   "metadata": {},
   "outputs": [
    {
     "data": {
      "text/plain": [
       "'tealtealtealtealtealtealtealtealtealteal'"
      ]
     },
     "execution_count": 7,
     "metadata": {},
     "output_type": "execute_result"
    }
   ],
   "source": [
    "color = \"teal\"\n",
    "color * 10"
   ]
  }
 ],
 "metadata": {
  "kernelspec": {
   "display_name": "Python 3 (ipykernel)",
   "language": "python",
   "name": "python3"
  },
  "language_info": {
   "codemirror_mode": {
    "name": "ipython",
    "version": 3
   },
   "file_extension": ".py",
   "mimetype": "text/x-python",
   "name": "python",
   "nbconvert_exporter": "python",
   "pygments_lexer": "ipython3",
   "version": "3.11.2"
  }
 },
 "nbformat": 4,
 "nbformat_minor": 5
}
